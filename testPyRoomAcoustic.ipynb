{
 "metadata": {
  "language_info": {
   "codemirror_mode": {
    "name": "ipython",
    "version": 3
   },
   "file_extension": ".py",
   "mimetype": "text/x-python",
   "name": "python",
   "nbconvert_exporter": "python",
   "pygments_lexer": "ipython3",
   "version": "3.8.5-final"
  },
  "orig_nbformat": 2,
  "kernelspec": {
   "name": "Python 3.8.5 64-bit ('base': conda)",
   "display_name": "Python 3.8.5 64-bit ('base': conda)",
   "metadata": {
    "interpreter": {
     "hash": "6ad2903d9f8eb78095a8e1054d3b7d96029c25240c1559c5c7674409ebbac066"
    }
   }
  }
 },
 "nbformat": 4,
 "nbformat_minor": 2,
 "cells": [
  {
   "cell_type": "code",
   "execution_count": 1,
   "metadata": {},
   "outputs": [],
   "source": [
    "# Import Systems \n",
    "import struct\n",
    "import io\n",
    "import os\n",
    "import sys\n",
    "import math\n",
    "\n",
    "# Import Signal Process\n",
    "import numpy as np\n",
    "import scipy.signal as sig\n",
    "import matplotlib.pyplot as plt\n",
    "\n",
    "# User Libraries\n",
    "import pyOssWavfile\n",
    "import pyRoomAcoustic as room       # room acoustic parameter\n",
    "import pyOssDebug as dbg            # for debug\n",
    "import pyOssFilter"
   ]
  },
  {
   "cell_type": "code",
   "execution_count": 2,
   "metadata": {},
   "outputs": [],
   "source": [
    "# Select.wav File Open\n",
    "\n",
    "#############################################################################\n",
    "#  Impulse Data Load -------------------------------------------------------#\n",
    "#############################################################################\n",
    "\n",
    "dir = 'impulse_sample'     # 프로젝트 내의 impulse wav files이 있는 폴더 이름\n",
    "\n",
    "# IMPULSE WAVE FILE\n",
    "# wav_fname = \"ElvedenHallMarbleHall\"\n",
    "# wav_fname = \"EmptyApartmentBedroom\"\n",
    "# wav_fname = \"FalklandPalaceRoyalTennisCourt\"\n",
    "# wav_fname = \"InsidePiano\"\n",
    "# wav_fname = \"MaesHowe\"\n",
    "wav_fname = \"mh3_000_ortf_48k\"\n",
    "# wav_fname = \"SportsCentreUniversityOfYork\"\n",
    "# wav_fname = \"StairwayUniversityOfYork\"\n",
    "# wav_fname = \"StAndrewsChurch\"\n",
    "# wav_fname = \"TyndallBruceMonument\"\n",
    "# wav_fname = \"anechoic_gunshot_0\"\n",
    "# wav_fname = \"10s sweep for 3s reverb 48k\"\n",
    "\n",
    "str_fileinfo = '_mono_f32_44.1k'    # 파일명에 부가된 정보\n",
    "\n",
    "# Original Wavfile \n",
    "# fname = pyOssWavfile.str_fname(dir, wav_fname)\n",
    "\n",
    "# mono,float32,44.1kHz \n",
    "fname = pyOssWavfile.str_fname(dir, wav_fname + str_fileinfo) # 전체경로, 파일명 조합\n",
    "\n",
    "fmt_w, data_w, st_fmt_w, t_w = pyOssWavfile.readf32(fname)\n",
    "data_n, st_fmt_n, t_n = pyOssWavfile.load_oss_npz(fname + '.npz')\n",
    "\n",
    "\n"
   ]
  },
  {
   "cell_type": "code",
   "execution_count": 4,
   "metadata": {},
   "outputs": [
    {
     "output_type": "error",
     "ename": "UnboundLocalError",
     "evalue": "local variable 'data_filtered' referenced before assignment",
     "traceback": [
      "\u001b[1;31m---------------------------------------------------------------------------\u001b[0m",
      "\u001b[1;31mUnboundLocalError\u001b[0m                         Traceback (most recent call last)",
      "\u001b[1;32m<ipython-input-4-83ad25bb7d3f>\u001b[0m in \u001b[0;36m<module>\u001b[1;34m\u001b[0m\n\u001b[0;32m      5\u001b[0m \u001b[0mfc\u001b[0m \u001b[1;33m=\u001b[0m \u001b[1;36m500\u001b[0m\u001b[1;33m\u001b[0m\u001b[1;33m\u001b[0m\u001b[0m\n\u001b[0;32m      6\u001b[0m \u001b[1;33m\u001b[0m\u001b[0m\n\u001b[1;32m----> 7\u001b[1;33m \u001b[0mdata_w_filtered\u001b[0m\u001b[1;33m,\u001b[0m \u001b[0mdecaycurve_w_filtered\u001b[0m\u001b[1;33m,\u001b[0m \u001b[0macoustic_w_param\u001b[0m \u001b[1;33m=\u001b[0m \u001b[0mpyOssFilter\u001b[0m\u001b[1;33m.\u001b[0m\u001b[0mcalc_filt_impulse\u001b[0m\u001b[1;33m(\u001b[0m\u001b[0mdata_w\u001b[0m\u001b[1;33m,\u001b[0m \u001b[0mst_fmt_w\u001b[0m\u001b[1;33m.\u001b[0m\u001b[0mfs\u001b[0m\u001b[1;33m,\u001b[0m \u001b[0mfc\u001b[0m\u001b[1;33m,\u001b[0m \u001b[0mwav_fname\u001b[0m \u001b[1;33m+\u001b[0m \u001b[0mstr_fileinfo\u001b[0m\u001b[1;33m)\u001b[0m\u001b[1;33m\u001b[0m\u001b[1;33m\u001b[0m\u001b[0m\n\u001b[0m\u001b[0;32m      8\u001b[0m \u001b[1;33m\u001b[0m\u001b[0m\n",
      "\u001b[1;32mc:\\Users\\Admin\\Documents\\workspace_py\\PyOssRoom\\pyOssFilter.py\u001b[0m in \u001b[0;36mcalc_filt_impulse\u001b[1;34m(in_data, fs, fc, filt_type, order_tab, RT60, fname)\u001b[0m\n\u001b[0;32m    129\u001b[0m \u001b[1;33m\u001b[0m\u001b[0m\n\u001b[0;32m    130\u001b[0m     \u001b[1;31m# Plot Filtered Impulse Data\u001b[0m\u001b[1;33m\u001b[0m\u001b[1;33m\u001b[0m\u001b[1;33m\u001b[0m\u001b[0m\n\u001b[1;32m--> 131\u001b[1;33m     \u001b[0mdbg\u001b[0m\u001b[1;33m.\u001b[0m\u001b[0mdPlotAudio\u001b[0m\u001b[1;33m(\u001b[0m\u001b[0mfs\u001b[0m\u001b[1;33m,\u001b[0m \u001b[0mdata_filtered\u001b[0m\u001b[1;33m,\u001b[0m \u001b[0mfname\u001b[0m \u001b[1;33m+\u001b[0m \u001b[1;34m' filtered '\u001b[0m \u001b[1;33m+\u001b[0m \u001b[0mstr\u001b[0m\u001b[1;33m(\u001b[0m\u001b[0mfc\u001b[0m\u001b[1;33m)\u001b[0m \u001b[1;33m+\u001b[0m \u001b[1;34m'Hz'\u001b[0m\u001b[1;33m,\u001b[0m \u001b[0mstr_ch_name\u001b[0m\u001b[1;33m,\u001b[0m \u001b[1;34m\"Time(sec)\"\u001b[0m\u001b[1;33m,\u001b[0m \u001b[1;34m\"Amplitude\"\u001b[0m\u001b[1;33m)\u001b[0m\u001b[1;33m\u001b[0m\u001b[1;33m\u001b[0m\u001b[0m\n\u001b[0m\u001b[0;32m    132\u001b[0m \u001b[1;33m\u001b[0m\u001b[0m\n\u001b[0;32m    133\u001b[0m     \u001b[1;31m# Calculation Normalized Decay Curve\u001b[0m\u001b[1;33m\u001b[0m\u001b[1;33m\u001b[0m\u001b[1;33m\u001b[0m\u001b[0m\n",
      "\u001b[1;31mUnboundLocalError\u001b[0m: local variable 'data_filtered' referenced before assignment"
     ]
    }
   ],
   "source": [
    "# Filter\n",
    "\n",
    "array_fc = [125, 250, 500, 1000, 2000, 4000, 8000, 16000]\n",
    "\n",
    "fc = 500\n",
    "\n",
    "data_w_filtered, decaycurve_w_filtered, acoustic_w_param = pyOssFilter.calc_filt_impulse(data_w, st_fmt_w.fs, fc, fname=wav_fname + str_fileinfo)\n",
    "\n"
   ]
  },
  {
   "cell_type": "code",
   "execution_count": null,
   "metadata": {},
   "outputs": [],
   "source": []
  }
 ]
}